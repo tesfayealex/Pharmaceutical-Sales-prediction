{
 "cells": [
  {
   "cell_type": "markdown",
   "id": "f2628032",
   "metadata": {},
   "source": [
    "# Random Forest Model using sklearn"
   ]
  },
  {
   "cell_type": "code",
   "execution_count": 1,
   "id": "89b09957",
   "metadata": {},
   "outputs": [],
   "source": [
    "# Importing Pandas an Numpy Libraries to use on manipulating our Data\n",
    "import pandas as pd\n",
    "import numpy as np\n",
    "\n",
    "from sklearn.ensemble import RandomForestClassifier\n",
    "from sklearn.linear_model import LogisticRegression\n",
    "from sklearn.model_selection import cross_val_score\n",
    "\n",
    "import sys\n",
    "sys.path.append(\"../scripts\")\n",
    "\n",
    "from modeling_pipeline import run_train_pipeline,dvc_get_data"
   ]
  },
  {
   "cell_type": "code",
   "execution_count": 2,
   "id": "8d256ca1",
   "metadata": {},
   "outputs": [
    {
     "name": "stdout",
     "output_type": "stream",
     "text": [
      "<class 'pandas.core.frame.DataFrame'>\n",
      "RangeIndex: 1226 entries, 0 to 1225\n",
      "Data columns (total 6 columns):\n",
      " #   Column       Non-Null Count  Dtype \n",
      "---  ------       --------------  ----- \n",
      " 0   experiment   1226 non-null   object\n",
      " 1   hour         1226 non-null   int64 \n",
      " 2   browser      1226 non-null   object\n",
      " 3   day_of_week  1226 non-null   object\n",
      " 4   brand        1226 non-null   object\n",
      " 5   response     1226 non-null   int64 \n",
      "dtypes: int64(2), object(4)\n",
      "memory usage: 57.6+ KB\n"
     ]
    }
   ],
   "source": [
    "df = dvc_get_data('Data/train.csv')\n",
    "df.info()"
   ]
  },
  {
   "cell_type": "code",
   "execution_count": 3,
   "id": "50a9735f",
   "metadata": {},
   "outputs": [],
   "source": [
    "x = df.drop(columns=['Sales'])\n",
    "y = df['Sales'].values"
   ]
  },
  {
   "cell_type": "code",
   "execution_count": 4,
   "id": "315d8dac",
   "metadata": {},
   "outputs": [
    {
     "data": {
      "text/plain": [
       "'RandomForestClassifier()'"
      ]
     },
     "execution_count": 4,
     "metadata": {},
     "output_type": "execute_result"
    }
   ],
   "source": [
    "model = RandomForestClassifier()\n",
    "str(model)"
   ]
  },
  {
   "cell_type": "code",
   "execution_count": null,
   "id": "9dbd26b6",
   "metadata": {},
   "outputs": [],
   "source": [
    "run_train_pipeline(model, x, y, \n",
    "                experiment_name='Random Forest with cleaned data',\n",
    "                run_name='platform_os_6_random_forest')"
   ]
  },
  {
   "cell_type": "code",
   "execution_count": null,
   "id": "defcc40e",
   "metadata": {},
   "outputs": [],
   "source": []
  }
 ],
 "metadata": {
  "kernelspec": {
   "display_name": "Python 3 (ipykernel)",
   "language": "python",
   "name": "python3"
  },
  "language_info": {
   "codemirror_mode": {
    "name": "ipython",
    "version": 3
   },
   "file_extension": ".py",
   "mimetype": "text/x-python",
   "name": "python",
   "nbconvert_exporter": "python",
   "pygments_lexer": "ipython3",
   "version": "3.9.7"
  }
 },
 "nbformat": 4,
 "nbformat_minor": 5
}
