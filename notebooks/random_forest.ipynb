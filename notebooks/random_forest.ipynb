{
 "cells": [
  {
   "cell_type": "markdown",
   "id": "f2628032",
   "metadata": {},
   "source": [
    "# Random Forest Model using sklearn"
   ]
  },
  {
   "cell_type": "code",
   "execution_count": 1,
   "id": "89b09957",
   "metadata": {},
   "outputs": [],
   "source": [
    "\n",
    "# To Preproccesing our data\n",
    "from sklearn.preprocessing import LabelEncoder\n",
    "\n",
    "# To fill missing values\n",
    "from sklearn.impute import SimpleImputer\n",
    "\n",
    "# To Split our train data\n",
    "from sklearn.model_selection import train_test_split\n",
    "\n",
    "# To Visualize Data\n",
    "import matplotlib.pyplot as plt\n",
    "import seaborn as sns\n",
    "# import statsmodels.api as sm\n",
    "# To Train our data\n",
    "from xgboost import XGBClassifier\n",
    "from sklearn.utils import shuffle\n",
    "from sklearn.tree import DecisionTreeClassifier\n",
    "from sklearn.neighbors import KNeighborsClassifier\n",
    "from sklearn.naive_bayes import BernoulliNB, GaussianNB\n",
    "from sklearn.preprocessing import StandardScaler, normalize\n",
    "\n",
    "# To evaluate end result we have\n",
    "from sklearn.metrics import accuracy_score, confusion_matrix, mean_squared_error, r2_score, mean_absolute_error\n",
    "from sklearn.metrics import (\n",
    "                             log_loss,\n",
    "                             precision_score,\n",
    "                             recall_score)\n",
    "from sklearn.model_selection import LeaveOneOut\n",
    "\n",
    "\n",
    "# Importing Pandas an Numpy Libraries to use on manipulating our Data\n",
    "import pandas as pd\n",
    "import numpy as np\n",
    "\n",
    "from sklearn.ensemble import RandomForestClassifier\n",
    "from sklearn.ensemble import RandomForestRegressor\n",
    "from sklearn.linear_model import LogisticRegression\n",
    "from sklearn.model_selection import cross_val_score,RandomizedSearchCV\n",
    "\n",
    "\n",
    "\n",
    "import sys\n",
    "sys.path.append(\"../scripts\")\n",
    "from ml_pipeline import run_train_pipeline,dvc_get_data"
   ]
  },
  {
   "cell_type": "code",
   "execution_count": 2,
   "id": "8d256ca1",
   "metadata": {},
   "outputs": [
    {
     "name": "stdout",
     "output_type": "stream",
     "text": [
      "<class 'pandas.core.frame.DataFrame'>\n",
      "RangeIndex: 1017209 entries, 0 to 1017208\n",
      "Data columns (total 25 columns):\n",
      " #   Column                     Non-Null Count    Dtype  \n",
      "---  ------                     --------------    -----  \n",
      " 0   Unnamed: 0                 1017209 non-null  int64  \n",
      " 1   Store                      1017209 non-null  int64  \n",
      " 2   DayOfWeek                  1017209 non-null  int64  \n",
      " 3   Date                       1017209 non-null  object \n",
      " 4   Sales                      1017209 non-null  int64  \n",
      " 5   Customers                  1017209 non-null  int64  \n",
      " 6   Open                       1017209 non-null  int64  \n",
      " 7   Promo                      1017209 non-null  int64  \n",
      " 8   StateHoliday               1017209 non-null  object \n",
      " 9   SchoolHoliday              1017209 non-null  int64  \n",
      " 10  Week_Number                1017209 non-null  int64  \n",
      " 11  Year                       1017209 non-null  int64  \n",
      " 12  Day                        1017209 non-null  int64  \n",
      " 13  Month                      1017209 non-null  int64  \n",
      " 14  weekday                    1017209 non-null  int64  \n",
      " 15  day_of_year                1017209 non-null  int64  \n",
      " 16  StoreType                  1017209 non-null  object \n",
      " 17  Assortment                 1017209 non-null  object \n",
      " 18  CompetitionDistance        1017209 non-null  float64\n",
      " 19  CompetitionOpenSinceMonth  1017209 non-null  int64  \n",
      " 20  CompetitionOpenSinceYear   1017209 non-null  int64  \n",
      " 21  Promo2                     1017209 non-null  int64  \n",
      " 22  Promo2SinceWeek            1017209 non-null  int64  \n",
      " 23  Promo2SinceYear            1017209 non-null  int64  \n",
      " 24  PromoInterval              1017209 non-null  object \n",
      "dtypes: float64(1), int64(19), object(5)\n",
      "memory usage: 194.0+ MB\n"
     ]
    }
   ],
   "source": [
    "main_df =  dvc_get_data('data/train.csv','a5499382dd37c492d562fca4cae1358cec8dc789')\n",
    "main_df.info()"
   ]
  },
  {
   "cell_type": "code",
   "execution_count": 3,
   "id": "e97d1270",
   "metadata": {},
   "outputs": [
    {
     "data": {
      "text/plain": [
       "(1017209, 24)"
      ]
     },
     "execution_count": 3,
     "metadata": {},
     "output_type": "execute_result"
    }
   ],
   "source": [
    "df = main_df.copy()\n",
    "df = df\n",
    "df.set_index('Year', inplace=True)\n",
    "df.shape\n",
    "# df[:10000].to_csv('../data/train_send.csv')"
   ]
  },
  {
   "cell_type": "code",
   "execution_count": 5,
   "id": "50a9735f",
   "metadata": {},
   "outputs": [],
   "source": [
    "x = df.drop(columns=['Sales','Unnamed: 0','Customers'])\n",
    "# x=df[['Store','Customers','Open','Promo','StateHoliday','SchoolHoliday','CompetitionDistance','CompetitionOpenSinceMonth','CompetitionOpenSinceYear','Promo2']]\n",
    "y = df['Sales']\n",
    "# print(df.loc[:, df.columns != 'Sales'].info())\n",
    "# print(y)\n",
    "\n",
    "x = x[:10000]\n",
    "y = y[:10000]"
   ]
  },
  {
   "cell_type": "code",
   "execution_count": 6,
   "id": "315d8dac",
   "metadata": {},
   "outputs": [
    {
     "data": {
      "text/plain": [
       "'RandomForestRegressor(n_estimators=10, random_state=42)'"
      ]
     },
     "execution_count": 6,
     "metadata": {},
     "output_type": "execute_result"
    }
   ],
   "source": [
    "model = RandomForestRegressor(n_estimators = 10, random_state = 42)# .set_params(max_depth=10)\n",
    "str(model)"
   ]
  },
  {
   "cell_type": "code",
   "execution_count": 7,
   "id": "9dbd26b6",
   "metadata": {},
   "outputs": [
    {
     "name": "stderr",
     "output_type": "stream",
     "text": [
      "2022-05-29 10:11:37,307:logger:successfully got catagorical columns\n",
      "2022-05-29 10:11:37,387:logger:successfully got catagorical columns\n",
      "2022-05-29 10:11:37,389:logger:successfully got numerical columns\n"
     ]
    },
    {
     "name": "stdout",
     "output_type": "stream",
     "text": [
      "(7000, 21)\n",
      "(3000, 21)\n",
      "(7000,)\n",
      "(3000,)\n"
     ]
    },
    {
     "name": "stderr",
     "output_type": "stream",
     "text": [
      "2022-05-29 10:11:38,222:logger:RMSE Score: 728.5889324600898\n",
      "2022-05-29 10:11:38,224:logger:R2_Squared: 0.9490164716507211\n",
      "2022-05-29 10:11:38,225:logger:MAE Score: 446.8973\n"
     ]
    },
    {
     "name": "stdout",
     "output_type": "stream",
     "text": [
      "Year\n",
      "2015    16.847807\n",
      "2015     3.251284\n",
      "2014     6.546723\n",
      "2013          NaN\n",
      "2013     2.986326\n",
      "          ...    \n",
      "2013     5.530618\n",
      "2014    15.398931\n",
      "2015    13.268640\n",
      "2013     5.073892\n",
      "2014     9.161927\n",
      "Name: Sales, Length: 3000, dtype: float64\n",
      "8.720973851680034\n"
     ]
    },
    {
     "name": "stderr",
     "output_type": "stream",
     "text": [
      "2022-05-29 10:11:38,260:logger:Accuracy: 91.28 %.\n"
     ]
    },
    {
     "name": "stdout",
     "output_type": "stream",
     "text": [
      "RandomForestRegressor(n_estimators=10, random_state=42)\n"
     ]
    },
    {
     "name": "stderr",
     "output_type": "stream",
     "text": [
      "2022-05-29 10:11:38,837:logger:feature importnace plotted\n"
     ]
    },
    {
     "name": "stdout",
     "output_type": "stream",
     "text": [
      "Successfully registered model Random Forest with cleaned data_sixth_run_Sat-May-28-19:51:43-2022\n",
      "Run - sixth_run is logged to Experiment - Random Forest with cleaned data\n"
     ]
    },
    {
     "data": {
      "image/png": "[encoded data removed]",
      "text/plain": [
       "<Figure size 864x576 with 1 Axes>"
      ]
     },
     "metadata": {
      "needs_background": "light"
     },
     "output_type": "display_data"
    }
   ],
   "source": [
    "run_train_pipeline(model, x, y, \n",
    "                experiment_name='Random Forest with cleaned data',\n",
    "                run_name='sixth_run')"
   ]
  },
  {
   "cell_type": "code",
   "execution_count": 8,
   "id": "315d8dac",
   "metadata": {},
   "outputs": [],
   "source": [
    "model = RandomForestRegressor(n_estimators=10)\n",
    "random_grid = { #'n_estimators': 10,\n",
    "            #    'max_features': ['auto', 'sqrt'],\n",
    "               'max_depth': [int(x) for x in np.linspace(10, 110, num = 11)],\n",
    "               'min_samples_split': [2, 5, 10],\n",
    "               'min_samples_leaf': [1, 2, 4],\n",
    "               'bootstrap': [True, False]}\n",
    "rf_random = RandomizedSearchCV(estimator = model, param_distributions = random_grid, n_iter = 10, cv = 3, verbose=2, random_state=42, n_jobs = -1)\n",
    "# grid_param = [{\n",
    "#     \"regressor\": [RandomForestRegressor()],\n",
    "#     \"regressor__n_estimators\": [10, 15],\n",
    "#     \"regressor__max_depth\":[5, 8, 15],\n",
    "#     \"regressor__min_samples_leaf\":[1, 2],\n",
    "#     \"regressor__bootstrap\": [True, False],\n",
    "#     \"regressor__criterion\": ['mse'],\n",
    "#     \"regressor__max_leaf_nodes\": [2, 5],\n",
    "#     \"regressor__max_features\": [2, 3],\n",
    "#     \"regressor__warm_start\": [True, False]\n",
    "# }]\n",
    "# from sklearn.pipeline import Pipeline\n",
    "# from sklearn.model_selection import train_test_split, GridSearchCV\n",
    "# # create a gridsearch of the pipeline, the fit the best model\n",
    "# grid_search_pipeline = GridSearchCV(\n",
    "#     Pipeline(steps=[('regressor', RandomForestRegressor())\n",
    "# ]), grid_param, cv=3, verbose=0, n_jobs=-1)\n",
    "# str(grid_search_pipeline)"
   ]
  },
  {
   "cell_type": "code",
   "execution_count": 9,
   "id": "9dbd26b6",
   "metadata": {},
   "outputs": [
    {
     "name": "stderr",
     "output_type": "stream",
     "text": [
      "2022-05-29 10:12:02,066:logger:successfully got catagorical columns\n",
      "2022-05-29 10:12:02,069:logger:successfully got catagorical columns\n",
      "2022-05-29 10:12:02,071:logger:successfully got numerical columns\n"
     ]
    },
    {
     "name": "stdout",
     "output_type": "stream",
     "text": [
      "(7000, 21)\n",
      "(3000, 21)\n",
      "(7000,)\n",
      "(3000,)\n",
      "Fitting 3 folds for each of 10 candidates, totalling 30 fits\n"
     ]
    },
    {
     "name": "stderr",
     "output_type": "stream",
     "text": [
      "2022-05-29 10:12:48,279:logger:RMSE Score: 744.6558282345835\n",
      "2022-05-29 10:12:48,281:logger:R2_Squared: 0.9475966776170743\n",
      "2022-05-29 10:12:48,283:logger:MAE Score: 452.0577818975469\n"
     ]
    },
    {
     "name": "stdout",
     "output_type": "stream",
     "text": [
      "Year\n",
      "2015          NaN\n",
      "2014     8.261761\n",
      "2013     6.677993\n",
      "2014    22.505079\n",
      "2015     7.458625\n",
      "          ...    \n",
      "2014     3.531487\n",
      "2013    11.217648\n",
      "2014          NaN\n",
      "2015    47.571931\n",
      "2015     9.749060\n",
      "Name: Sales, Length: 3000, dtype: float64\n",
      "8.536706283939937\n"
     ]
    },
    {
     "name": "stderr",
     "output_type": "stream",
     "text": [
      "2022-05-29 10:12:48,294:logger:Accuracy: 91.46 %.\n"
     ]
    },
    {
     "name": "stdout",
     "output_type": "stream",
     "text": [
      "RandomizedSearchCV(cv=3, estimator=RandomForestRegressor(n_estimators=10),\n",
      "                   n_jobs=-1,\n",
      "                   param_distributions={'bootstrap': [True, False],\n",
      "                                        'max_depth': [10, 20, 30, 40, 50, 60,\n",
      "                                                      70, 80, 90, 100, 110],\n",
      "                                        'min_samples_leaf': [1, 2, 4],\n",
      "                                        'min_samples_split': [2, 5, 10]},\n",
      "                   random_state=42, verbose=2)\n"
     ]
    },
    {
     "name": "stderr",
     "output_type": "stream",
     "text": [
      "2022-05-29 10:12:48,303:logger:'RandomizedSearchCV' object has no attribute 'feature_importances_'\n",
      "2022-05-29 10:12:48,327:logger:'list' object has no attribute 'keys'\n"
     ]
    },
    {
     "name": "stdout",
     "output_type": "stream",
     "text": [
      "Successfully registered model Random Forest with cleaned data_sixth_run_Sat-May-28-19:51:43-2022\n",
      "Run - fine_tuned is logged to Experiment - Random Forest with cleaned data\n"
     ]
    }
   ],
   "source": [
    "run_train_pipeline(rf_random, x, y, \n",
    "                experiment_name='Random Forest with cleaned data',\n",
    "                run_name='fine_tuned')"
   ]
  }
 ],
 "metadata": {
  "interpreter": {
   "hash": "cf92aa13fedf815d5c8dd192b8d835913fde3e8bc926b2a0ad6cc74ef2ba3ca2"
  },
  "kernelspec": {
   "display_name": "Python 3.9.2 64-bit",
   "language": "python",
   "name": "python3"
  },
  "language_info": {
   "codemirror_mode": {
    "name": "ipython",
    "version": 3
   },
   "file_extension": ".py",
   "mimetype": "text/x-python",
   "name": "python",
   "nbconvert_exporter": "python",
   "pygments_lexer": "ipython3",
   "version": "3.9.2"
  }
 },
 "nbformat": 4,
 "nbformat_minor": 5
}
