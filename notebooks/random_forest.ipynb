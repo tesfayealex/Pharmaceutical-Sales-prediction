{
 "cells": [
  {
   "cell_type": "markdown",
   "id": "f2628032",
   "metadata": {},
   "source": [
    "# Random Forest Model using sklearn"
   ]
  },
  {
   "cell_type": "code",
   "execution_count": 1,
   "id": "89b09957",
   "metadata": {},
   "outputs": [],
   "source": [
    "\n",
    "# To Preproccesing our data\n",
    "from sklearn.preprocessing import LabelEncoder\n",
    "\n",
    "# To fill missing values\n",
    "from sklearn.impute import SimpleImputer\n",
    "\n",
    "# To Split our train data\n",
    "from sklearn.model_selection import train_test_split\n",
    "\n",
    "# To Visualize Data\n",
    "import matplotlib.pyplot as plt\n",
    "import seaborn as sns\n",
    "# import statsmodels.api as sm\n",
    "# To Train our data\n",
    "from xgboost import XGBClassifier\n",
    "from sklearn.utils import shuffle\n",
    "from sklearn.tree import DecisionTreeClassifier\n",
    "from sklearn.neighbors import KNeighborsClassifier\n",
    "from sklearn.naive_bayes import BernoulliNB, GaussianNB\n",
    "from sklearn.preprocessing import StandardScaler, normalize\n",
    "\n",
    "# To evaluate end result we have\n",
    "from sklearn.metrics import accuracy_score, confusion_matrix, mean_squared_error, r2_score, mean_absolute_error\n",
    "from sklearn.metrics import (\n",
    "                             log_loss,\n",
    "                             precision_score,\n",
    "                             recall_score)\n",
    "from sklearn.model_selection import LeaveOneOut\n",
    "\n",
    "\n",
    "# Importing Pandas an Numpy Libraries to use on manipulating our Data\n",
    "import pandas as pd\n",
    "import numpy as np\n",
    "\n",
    "from sklearn.ensemble import RandomForestClassifier\n",
    "from sklearn.ensemble import RandomForestRegressor\n",
    "from sklearn.linear_model import LogisticRegression\n",
    "from sklearn.model_selection import cross_val_score,RandomizedSearchCV\n",
    "\n",
    "\n",
    "\n",
    "import sys\n",
    "sys.path.append(\"../scripts\")\n",
    "from ml_pipeline import run_train_pipeline,dvc_get_data"
   ]
  },
  {
   "cell_type": "code",
   "execution_count": 2,
   "id": "8d256ca1",
   "metadata": {},
   "outputs": [
    {
     "name": "stdout",
     "output_type": "stream",
     "text": [
      "<class 'pandas.core.frame.DataFrame'>\n",
      "RangeIndex: 1017209 entries, 0 to 1017208\n",
      "Data columns (total 25 columns):\n",
      " #   Column                     Non-Null Count    Dtype  \n",
      "---  ------                     --------------    -----  \n",
      " 0   Unnamed: 0                 1017209 non-null  int64  \n",
      " 1   Store                      1017209 non-null  int64  \n",
      " 2   DayOfWeek                  1017209 non-null  int64  \n",
      " 3   Date                       1017209 non-null  object \n",
      " 4   Sales                      1017209 non-null  int64  \n",
      " 5   Customers                  1017209 non-null  int64  \n",
      " 6   Open                       1017209 non-null  int64  \n",
      " 7   Promo                      1017209 non-null  int64  \n",
      " 8   StateHoliday               1017209 non-null  object \n",
      " 9   SchoolHoliday              1017209 non-null  int64  \n",
      " 10  Week_Number                1017209 non-null  int64  \n",
      " 11  Year                       1017209 non-null  int64  \n",
      " 12  Day                        1017209 non-null  int64  \n",
      " 13  Month                      1017209 non-null  int64  \n",
      " 14  weekday                    1017209 non-null  int64  \n",
      " 15  day_of_year                1017209 non-null  int64  \n",
      " 16  StoreType                  1017209 non-null  object \n",
      " 17  Assortment                 1017209 non-null  object \n",
      " 18  CompetitionDistance        1017209 non-null  float64\n",
      " 19  CompetitionOpenSinceMonth  1017209 non-null  int64  \n",
      " 20  CompetitionOpenSinceYear   1017209 non-null  int64  \n",
      " 21  Promo2                     1017209 non-null  int64  \n",
      " 22  Promo2SinceWeek            1017209 non-null  int64  \n",
      " 23  Promo2SinceYear            1017209 non-null  int64  \n",
      " 24  PromoInterval              1017209 non-null  object \n",
      "dtypes: float64(1), int64(19), object(5)\n",
      "memory usage: 194.0+ MB\n"
     ]
    }
   ],
   "source": [
    "main_df = pd.read_csv('../data/train_merge.csv')\n",
    "main_df.info()"
   ]
  },
  {
   "cell_type": "code",
   "execution_count": 3,
   "id": "e97d1270",
   "metadata": {},
   "outputs": [
    {
     "data": {
      "text/plain": [
       "(1017209, 24)"
      ]
     },
     "execution_count": 3,
     "metadata": {},
     "output_type": "execute_result"
    }
   ],
   "source": [
    "df = main_df.copy()\n",
    "df = df\n",
    "df.set_index('Year', inplace=True)\n",
    "df.shape"
   ]
  },
  {
   "cell_type": "code",
   "execution_count": 8,
   "id": "50a9735f",
   "metadata": {},
   "outputs": [],
   "source": [
    "x = df.drop(columns=['Sales','Unnamed: 0'])\n",
    "# x=df[['Store','Customers','Open','Promo','StateHoliday','SchoolHoliday','CompetitionDistance','CompetitionOpenSinceMonth','CompetitionOpenSinceYear','Promo2']]\n",
    "y = df['Sales']\n",
    "# print(df.loc[:, df.columns != 'Sales'].info())\n",
    "# print(y)"
   ]
  },
  {
   "cell_type": "code",
   "execution_count": 9,
   "id": "315d8dac",
   "metadata": {},
   "outputs": [
    {
     "data": {
      "text/plain": [
       "'RandomForestRegressor(n_estimators=10, random_state=42)'"
      ]
     },
     "execution_count": 9,
     "metadata": {},
     "output_type": "execute_result"
    }
   ],
   "source": [
    "model = RandomForestRegressor(n_estimators = 10, random_state = 42)# .set_params(max_depth=10)\n",
    "str(model)"
   ]
  },
  {
   "cell_type": "code",
   "execution_count": 10,
   "id": "9dbd26b6",
   "metadata": {},
   "outputs": [
    {
     "name": "stderr",
     "output_type": "stream",
     "text": [
      "2022-05-26 22:33:40,266:logger:successfully got catagorical columns\n",
      "2022-05-26 22:33:44,428:logger:successfully got catagorical columns\n",
      "2022-05-26 22:33:44,431:logger:successfully got numerical columns\n"
     ]
    },
    {
     "name": "stdout",
     "output_type": "stream",
     "text": [
      "(712046, 22)\n",
      "(305163, 22)\n",
      "(712046,)\n",
      "(305163,)\n",
      "RMSE Score: 468.6911746890982\n",
      "R2_Squared: 0.985154765220726\n",
      "MAE Score: 282.11258507748323\n",
      "Accuracy: 94.98 %.\n",
      "{'Store': 0.01568562494796197, 'DayOfWeek': 0.004952197508794209, 'Date': 0.00379244595992322, 'Customers': 0.858053230878206, 'Open': 0.0, 'Promo': 0.017682338575171406, 'StateHoliday': 9.061736096631882e-05, 'SchoolHoliday': 0.0002991428337752227, 'Week_Number': 0.0013063674301063183, 'Day': 0.002666841474462461, 'Month': 0.0005784712778589549, 'weekday': 0.00029242116434470013, 'day_of_year': 0.0027631447080274526, 'StoreType': 0.03448806628063298, 'Assortment': 0.005031020457650167, 'CompetitionDistance': 0.02745233148219574, 'CompetitionOpenSinceMonth': 0.005859606723330953, 'CompetitionOpenSinceYear': 0.005856387871085297, 'Promo2': 0.0003273214560644394, 'Promo2SinceWeek': 0.007471743013215758, 'Promo2SinceYear': 0.0030305945173506586, 'PromoInterval': 0.0023200840788759}\n",
      "Run - first_run is logged to Experiment - Random Forest with cleaned data\n"
     ]
    }
   ],
   "source": [
    "run_train_pipeline(model, x, y, \n",
    "                experiment_name='Random Forest with cleaned data',\n",
    "                run_name='first_run')"
   ]
  },
  {
   "cell_type": "code",
   "execution_count": 11,
   "id": "315d8dac",
   "metadata": {},
   "outputs": [
    {
     "data": {
      "text/plain": [
       "\"RandomizedSearchCV(cv=3, estimator=RandomForestRegressor(), n_iter=100,\\n                   n_jobs=-1,\\n                   param_distributions={'bootstrap': [True, False],\\n                                        'max_depth': [10, 20, 30, 40, 50, 60,\\n                                                      70, 80, 90, 100, 110],\\n                                        'min_samples_leaf': [1, 2, 4],\\n                                        'min_samples_split': [2, 5, 10],\\n                                        'n_estimators': 10},\\n                   random_state=42, verbose=2)\""
      ]
     },
     "execution_count": 11,
     "metadata": {},
     "output_type": "execute_result"
    }
   ],
   "source": [
    "model = RandomForestRegressor()\n",
    "random_grid = {'n_estimators': 10,\n",
    "            #    'max_features': ['auto', 'sqrt'],\n",
    "               'max_depth': [int(x) for x in np.linspace(10, 110, num = 11)],\n",
    "               'min_samples_split': [2, 5, 10],\n",
    "               'min_samples_leaf': [1, 2, 4],\n",
    "               'bootstrap': [True, False]}\n",
    "rf_random = RandomizedSearchCV(estimator = model, param_distributions = random_grid, n_iter = 100, cv = 3, verbose=2, random_state=42, n_jobs = -1)\n",
    "str(rf_random)"
   ]
  },
  {
   "cell_type": "code",
   "execution_count": 12,
   "id": "9dbd26b6",
   "metadata": {},
   "outputs": [
    {
     "name": "stderr",
     "output_type": "stream",
     "text": [
      "2022-05-26 22:39:28,340:logger:successfully got catagorical columns\n",
      "2022-05-26 22:39:28,342:logger:successfully got catagorical columns\n",
      "2022-05-26 22:39:28,346:logger:successfully got numerical columns\n"
     ]
    },
    {
     "name": "stdout",
     "output_type": "stream",
     "text": [
      "(712046, 22)\n",
      "(305163, 22)\n",
      "(712046,)\n",
      "(305163,)\n"
     ]
    },
    {
     "name": "stderr",
     "output_type": "stream",
     "text": [
      "2022-05-26 22:39:39,442:logger:Parameter value is not iterable or distribution (key='n_estimators', value=10)\n",
      "2022-05-26 22:39:39,463:logger:'TrainingPipeline' object has no attribute '_TrainingPipeline__pipeline'\n"
     ]
    },
    {
     "data": {
      "text/plain": [
       "{}"
      ]
     },
     "execution_count": 12,
     "metadata": {},
     "output_type": "execute_result"
    }
   ],
   "source": [
    "run_train_pipeline(rf_random, x, y, \n",
    "                experiment_name='Random Forest with cleaned data',\n",
    "                run_name='first_run')"
   ]
  },
  {
   "cell_type": "code",
   "execution_count": null,
   "id": "defcc40e",
   "metadata": {},
   "outputs": [
    {
     "ename": "NameError",
     "evalue": "name 'error' is not defined",
     "output_type": "error",
     "traceback": [
      "\u001b[1;31m---------------------------------------------------------------------------\u001b[0m",
      "\u001b[1;31mNameError\u001b[0m                                 Traceback (most recent call last)",
      "\u001b[1;32mc:\\Users\\User\\Desktop\\10AcademyProjects\\Pharmaceutical-Sales-prediction\\notebooks\\random_forest.ipynb Cell 8'\u001b[0m in \u001b[0;36m<cell line: 1>\u001b[1;34m()\u001b[0m\n\u001b[1;32m----> <a href='vscode-notebook-cell:/c%3A/Users/User/Desktop/10AcademyProjects/Pharmaceutical-Sales-prediction/notebooks/random_forest.ipynb#ch0000007?line=0'>1</a>\u001b[0m error\n\u001b[0;32m      <a href='vscode-notebook-cell:/c%3A/Users/User/Desktop/10AcademyProjects/Pharmaceutical-Sales-prediction/notebooks/random_forest.ipynb#ch0000007?line=1'>2</a>\u001b[0m df_cp \u001b[39m=\u001b[39m df \u001b[39m#[['Sales','Store','Customers','Open','Promo','StateHoliday','SchoolHoliday','CompetitionDistance','CompetitionOpenSinceMonth','CompetitionOpenSinceYear','Promo2']]\u001b[39;00m\n\u001b[0;32m      <a href='vscode-notebook-cell:/c%3A/Users/User/Desktop/10AcademyProjects/Pharmaceutical-Sales-prediction/notebooks/random_forest.ipynb#ch0000007?line=2'>3</a>\u001b[0m lb \u001b[39m=\u001b[39m LabelEncoder()\n",
      "\u001b[1;31mNameError\u001b[0m: name 'error' is not defined"
     ]
    }
   ],
   "source": [
    "error\n",
    "df_cp = df #[['Sales','Store','Customers','Open','Promo','StateHoliday','SchoolHoliday','CompetitionDistance','CompetitionOpenSinceMonth','CompetitionOpenSinceYear','Promo2']]\n",
    "lb = LabelEncoder()\n",
    "categorical_columns = df.select_dtypes(\n",
    "                include=['object']).columns.tolist()\n",
    "for c in categorical_columns:\n",
    "    df_cp[c] = lb.fit_transform(df[c])"
   ]
  },
  {
   "cell_type": "code",
   "execution_count": null,
   "id": "73b6aad5",
   "metadata": {},
   "outputs": [],
   "source": [
    "x = df_cp.drop(['Sales'],axis=1)\n",
    "# df_cp = StandardScaler().fit_transform(df_cp)\n",
    "# df_cp"
   ]
  },
  {
   "cell_type": "code",
   "execution_count": null,
   "id": "9dc78405",
   "metadata": {},
   "outputs": [],
   "source": [
    "# set aside 20% of train and test data for evaluation\n",
    "\n",
    "X_train, X_test, y_train, y_test = train_test_split(x, df_cp['Sales'],\n",
    "                                                    test_size=0.4)\n",
    "\n",
    "# Use the same function above for the validation set\n",
    "# X_train, X_val, y_train, y_val = train_test_split(X_train, y_train,\n",
    "#                                                   test_size=0.2)  # 0.25 x 0.8 = 0.2"
   ]
  },
  {
   "cell_type": "code",
   "execution_count": null,
   "id": "5590fa28",
   "metadata": {},
   "outputs": [
    {
     "name": "stdout",
     "output_type": "stream",
     "text": [
      "(610325, 23)\n",
      "(406884, 23)\n",
      "(610325,)\n",
      "(406884,)\n"
     ]
    }
   ],
   "source": [
    "print(X_train.shape)\n",
    "print(X_test.shape)\n",
    "# print(X_val.shape)\n",
    "print(y_train.shape)\n",
    "print(y_test.shape)\n",
    "# print(y_val.shape)\n"
   ]
  },
  {
   "cell_type": "code",
   "execution_count": null,
   "id": "5078778d",
   "metadata": {},
   "outputs": [],
   "source": [
    "plt.style.use('ggplot')\n",
    "%matplotlib inline\n",
    "\n",
    "\n",
    "def plot_preds(y_test, y_preds, model_name):\n",
    "    N = len(y_test)\n",
    "    plt.figure(figsize=(10, 5))\n",
    "    original = plt.scatter(np.arange(1, N+1), y_test, c='blue')\n",
    "    prediction = plt.scatter(np.arange(1, N+1), y_preds, c='red')\n",
    "    plt.xticks(np.arange(1, N+1))\n",
    "    plt.xlabel('# Oberservation')\n",
    "    plt.ylabel('REsponse')\n",
    "    title = 'True labels vs. Predicted Labels ({})'.format(model_name)\n",
    "    plt.title(title)\n",
    "    plt.legend((original, prediction), ('Original', 'Prediction'))\n",
    "    plt.show()"
   ]
  },
  {
   "cell_type": "code",
   "execution_count": null,
   "id": "d2f32b46",
   "metadata": {},
   "outputs": [],
   "source": [
    "# X_train_refined = X_train.drop(columns=['row_id'], axis=1)\n",
    "# linear_regression = sm.OLS(y_train, X_train)\n",
    "# linear_regression = linear_regression.fit()"
   ]
  },
  {
   "cell_type": "code",
   "execution_count": null,
   "id": "1370a977",
   "metadata": {},
   "outputs": [],
   "source": [
    "# X_test_refined = X_test.drop(columns=['row_id'],axis=1)\n",
    "# clf.fit(X_train, y_train)\n",
    "random = RandomForestRegressor(n_estimators = 10, random_state = 42)\n",
    "random.fit(X_train, y_train)\n",
    "y_preds = random.predict(X_test)"
   ]
  },
  {
   "cell_type": "code",
   "execution_count": null,
   "id": "47a79fdd",
   "metadata": {},
   "outputs": [
    {
     "name": "stdout",
     "output_type": "stream",
     "text": [
      "RMSE Score: 476.3278833306554\n",
      "R2_Squared: 0.9847272625351916\n",
      "MAE Score: 286.5120734656561\n",
      "0.9972256699920204\n"
     ]
    }
   ],
   "source": [
    "def calculate_metrics(y_test, y_preds):\n",
    "    rmse = np.sqrt(mean_squared_error(y_test, y_preds))\n",
    "    r_sq = r2_score(y_test, y_preds)\n",
    "    mae = mean_absolute_error(y_test, y_preds)\n",
    "\n",
    "    print('RMSE Score: {}'.format(rmse)) \n",
    "    print('R2_Squared: {}'.format(r_sq))\n",
    "    print('MAE Score: {}'.format(mae))\n",
    "        # except Exception as e:\n",
    "        #     print(e)\n",
    "        #     # logger.error(e)\n",
    "        #     return {}\n",
    "# y_pred_prob = random.predict_proba(X_test)\n",
    "run_metrics = calculate_metrics(y_test, y_preds)\n",
    "run_metrics\n",
    "print(random.score(X_train, y_train))"
   ]
  },
  {
   "cell_type": "code",
   "execution_count": null,
   "id": "de11987f",
   "metadata": {},
   "outputs": [
    {
     "name": "stdout",
     "output_type": "stream",
     "text": [
      "Mean Absolute Error: 286.51 degrees.\n"
     ]
    }
   ],
   "source": [
    "errors = abs(y_preds - y_test)\n",
    "# Print out the mean absolute error (mae)\n",
    "print('Mean Absolute Error:', round(np.mean(errors), 2), 'degrees.')"
   ]
  },
  {
   "cell_type": "code",
   "execution_count": null,
   "id": "a4f6e5dd",
   "metadata": {},
   "outputs": [
    {
     "name": "stdout",
     "output_type": "stream",
     "text": [
      "Accuracy: -inf %.\n"
     ]
    }
   ],
   "source": [
    "# plot_preds(y_test, y_preds, 'Random Forst Regression')\n",
    "mape = 100 * (errors / y_test)\n",
    "# Calculate and display accuracy\n",
    "accuracy = 100 - np.mean(mape)\n",
    "print('Accuracy:', round(accuracy, 2), '%.')"
   ]
  },
  {
   "cell_type": "code",
   "execution_count": null,
   "id": "ff2a0c50",
   "metadata": {},
   "outputs": [
    {
     "data": {
      "text/html": [
       "<div>\n",
       "<style scoped>\n",
       "    .dataframe tbody tr th:only-of-type {\n",
       "        vertical-align: middle;\n",
       "    }\n",
       "\n",
       "    .dataframe tbody tr th {\n",
       "        vertical-align: top;\n",
       "    }\n",
       "\n",
       "    .dataframe thead th {\n",
       "        text-align: right;\n",
       "    }\n",
       "</style>\n",
       "<table border=\"1\" class=\"dataframe\">\n",
       "  <thead>\n",
       "    <tr style=\"text-align: right;\">\n",
       "      <th></th>\n",
       "      <th>Feature</th>\n",
       "      <th>Importance</th>\n",
       "    </tr>\n",
       "  </thead>\n",
       "  <tbody>\n",
       "    <tr>\n",
       "      <th>4</th>\n",
       "      <td>Customers</td>\n",
       "      <td>0.857478</td>\n",
       "    </tr>\n",
       "    <tr>\n",
       "      <th>14</th>\n",
       "      <td>StoreType</td>\n",
       "      <td>0.034301</td>\n",
       "    </tr>\n",
       "    <tr>\n",
       "      <th>16</th>\n",
       "      <td>CompetitionDistance</td>\n",
       "      <td>0.027217</td>\n",
       "    </tr>\n",
       "    <tr>\n",
       "      <th>6</th>\n",
       "      <td>Promo</td>\n",
       "      <td>0.017665</td>\n",
       "    </tr>\n",
       "    <tr>\n",
       "      <th>0</th>\n",
       "      <td>Unnamed: 0</td>\n",
       "      <td>0.012777</td>\n",
       "    </tr>\n",
       "    <tr>\n",
       "      <th>20</th>\n",
       "      <td>Promo2SinceWeek</td>\n",
       "      <td>0.006834</td>\n",
       "    </tr>\n",
       "    <tr>\n",
       "      <th>1</th>\n",
       "      <td>Store</td>\n",
       "      <td>0.006422</td>\n",
       "    </tr>\n",
       "    <tr>\n",
       "      <th>18</th>\n",
       "      <td>CompetitionOpenSinceYear</td>\n",
       "      <td>0.005492</td>\n",
       "    </tr>\n",
       "    <tr>\n",
       "      <th>17</th>\n",
       "      <td>CompetitionOpenSinceMonth</td>\n",
       "      <td>0.005486</td>\n",
       "    </tr>\n",
       "    <tr>\n",
       "      <th>15</th>\n",
       "      <td>Assortment</td>\n",
       "      <td>0.005294</td>\n",
       "    </tr>\n",
       "    <tr>\n",
       "      <th>2</th>\n",
       "      <td>DayOfWeek</td>\n",
       "      <td>0.004683</td>\n",
       "    </tr>\n",
       "    <tr>\n",
       "      <th>21</th>\n",
       "      <td>Promo2SinceYear</td>\n",
       "      <td>0.003102</td>\n",
       "    </tr>\n",
       "    <tr>\n",
       "      <th>3</th>\n",
       "      <td>Date</td>\n",
       "      <td>0.003008</td>\n",
       "    </tr>\n",
       "    <tr>\n",
       "      <th>13</th>\n",
       "      <td>day_of_year</td>\n",
       "      <td>0.002637</td>\n",
       "    </tr>\n",
       "    <tr>\n",
       "      <th>22</th>\n",
       "      <td>PromoInterval</td>\n",
       "      <td>0.002385</td>\n",
       "    </tr>\n",
       "    <tr>\n",
       "      <th>10</th>\n",
       "      <td>Day</td>\n",
       "      <td>0.002380</td>\n",
       "    </tr>\n",
       "    <tr>\n",
       "      <th>9</th>\n",
       "      <td>Week_Number</td>\n",
       "      <td>0.001246</td>\n",
       "    </tr>\n",
       "    <tr>\n",
       "      <th>11</th>\n",
       "      <td>Month</td>\n",
       "      <td>0.000539</td>\n",
       "    </tr>\n",
       "    <tr>\n",
       "      <th>12</th>\n",
       "      <td>weekday</td>\n",
       "      <td>0.000337</td>\n",
       "    </tr>\n",
       "    <tr>\n",
       "      <th>19</th>\n",
       "      <td>Promo2</td>\n",
       "      <td>0.000333</td>\n",
       "    </tr>\n",
       "    <tr>\n",
       "      <th>8</th>\n",
       "      <td>SchoolHoliday</td>\n",
       "      <td>0.000298</td>\n",
       "    </tr>\n",
       "    <tr>\n",
       "      <th>7</th>\n",
       "      <td>StateHoliday</td>\n",
       "      <td>0.000087</td>\n",
       "    </tr>\n",
       "    <tr>\n",
       "      <th>5</th>\n",
       "      <td>Open</td>\n",
       "      <td>0.000000</td>\n",
       "    </tr>\n",
       "  </tbody>\n",
       "</table>\n",
       "</div>"
      ],
      "text/plain": [
       "                      Feature  Importance\n",
       "4                   Customers    0.857478\n",
       "14                  StoreType    0.034301\n",
       "16        CompetitionDistance    0.027217\n",
       "6                       Promo    0.017665\n",
       "0                  Unnamed: 0    0.012777\n",
       "20            Promo2SinceWeek    0.006834\n",
       "1                       Store    0.006422\n",
       "18   CompetitionOpenSinceYear    0.005492\n",
       "17  CompetitionOpenSinceMonth    0.005486\n",
       "15                 Assortment    0.005294\n",
       "2                   DayOfWeek    0.004683\n",
       "21            Promo2SinceYear    0.003102\n",
       "3                        Date    0.003008\n",
       "13                day_of_year    0.002637\n",
       "22              PromoInterval    0.002385\n",
       "10                        Day    0.002380\n",
       "9                 Week_Number    0.001246\n",
       "11                      Month    0.000539\n",
       "12                    weekday    0.000337\n",
       "19                     Promo2    0.000333\n",
       "8               SchoolHoliday    0.000298\n",
       "7                StateHoliday    0.000087\n",
       "5                        Open    0.000000"
      ]
     },
     "execution_count": 34,
     "metadata": {},
     "output_type": "execute_result"
    }
   ],
   "source": [
    "features = pd.DataFrame()\n",
    "features[\"Feature\"] = X_train.columns\n",
    "features[\"Importance\"] = random.feature_importances_\n",
    "features = features.sort_values(by='Importance', ascending=False)\n",
    "features"
   ]
  }
 ],
 "metadata": {
  "interpreter": {
   "hash": "cf92aa13fedf815d5c8dd192b8d835913fde3e8bc926b2a0ad6cc74ef2ba3ca2"
  },
  "kernelspec": {
   "display_name": "Python 3.9.2 64-bit",
   "language": "python",
   "name": "python3"
  },
  "language_info": {
   "codemirror_mode": {
    "name": "ipython",
    "version": 3
   },
   "file_extension": ".py",
   "mimetype": "text/x-python",
   "name": "python",
   "nbconvert_exporter": "python",
   "pygments_lexer": "ipython3",
   "version": "3.9.2"
  }
 },
 "nbformat": 4,
 "nbformat_minor": 5
}
